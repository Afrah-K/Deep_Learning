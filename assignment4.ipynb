{
 "cells": [
  {
   "cell_type": "code",
   "execution_count": 4,
   "metadata": {},
   "outputs": [
    {
     "name": "stdout",
     "output_type": "stream",
     "text": [
      "Downloading pistachio-image-dataset.zip to c:\\Users\\rasua\\OneDrive\\Documents\\GitHub\\DL\n",
      "\n"
     ]
    },
    {
     "name": "stderr",
     "output_type": "stream",
     "text": [
      "\n",
      "  0%|          | 0.00/26.7M [00:00<?, ?B/s]\n",
      "  4%|▍         | 1.00M/26.7M [00:01<00:32, 818kB/s]\n",
      "  8%|▊         | 2.00M/26.7M [00:01<00:15, 1.65MB/s]\n",
      " 11%|█▏        | 3.00M/26.7M [00:01<00:09, 2.64MB/s]\n",
      " 15%|█▌        | 4.00M/26.7M [00:01<00:06, 3.44MB/s]\n",
      " 19%|█▉        | 5.00M/26.7M [00:01<00:05, 4.53MB/s]\n",
      " 23%|██▎       | 6.00M/26.7M [00:02<00:04, 5.01MB/s]\n",
      " 26%|██▋       | 7.00M/26.7M [00:02<00:04, 5.08MB/s]\n",
      " 30%|███       | 8.00M/26.7M [00:02<00:03, 5.25MB/s]\n",
      " 34%|███▍      | 9.00M/26.7M [00:02<00:03, 5.29MB/s]\n",
      " 38%|███▊      | 10.0M/26.7M [00:02<00:03, 5.53MB/s]\n",
      " 41%|████▏     | 11.0M/26.7M [00:02<00:02, 5.55MB/s]\n",
      " 45%|████▌     | 12.0M/26.7M [00:03<00:02, 5.51MB/s]\n",
      " 49%|████▉     | 13.0M/26.7M [00:03<00:02, 5.64MB/s]\n",
      " 53%|█████▎    | 14.0M/26.7M [00:03<00:02, 5.66MB/s]\n",
      " 56%|█████▋    | 15.0M/26.7M [00:03<00:02, 6.08MB/s]\n",
      " 60%|██████    | 16.0M/26.7M [00:03<00:01, 6.41MB/s]\n",
      " 64%|██████▍   | 17.0M/26.7M [00:03<00:01, 7.08MB/s]\n",
      " 68%|██████▊   | 18.0M/26.7M [00:04<00:01, 6.95MB/s]\n",
      " 71%|███████▏  | 19.0M/26.7M [00:04<00:01, 6.68MB/s]\n",
      " 75%|███████▌  | 20.0M/26.7M [00:04<00:01, 6.47MB/s]\n",
      " 79%|███████▉  | 21.0M/26.7M [00:04<00:00, 6.29MB/s]\n",
      " 83%|████████▎ | 22.0M/26.7M [00:04<00:00, 6.11MB/s]\n",
      " 86%|████████▋ | 23.0M/26.7M [00:04<00:00, 6.25MB/s]\n",
      " 90%|█████████ | 24.0M/26.7M [00:05<00:00, 6.24MB/s]\n",
      " 94%|█████████▍| 25.0M/26.7M [00:05<00:00, 5.88MB/s]\n",
      " 98%|█████████▊| 26.0M/26.7M [00:05<00:00, 5.68MB/s]\n",
      "100%|██████████| 26.7M/26.7M [00:05<00:00, 5.71MB/s]\n",
      "100%|██████████| 26.7M/26.7M [00:05<00:00, 4.98MB/s]\n"
     ]
    }
   ],
   "source": [
    "!kaggle datasets download -d muratkokludataset/pistachio-image-dataset"
   ]
  },
  {
   "cell_type": "code",
   "execution_count": 6,
   "metadata": {},
   "outputs": [],
   "source": [
    "import zipfile\n",
    "\n",
    "# Specify the path to the zip file\n",
    "zip_file = \"pistachio-image-dataset.zip\"\n",
    "\n",
    "# Specify the directory to extract to\n",
    "extract_to = \"./pistachio-image-dataset\"\n",
    "\n",
    "# Unzip the file\n",
    "with zipfile.ZipFile(zip_file, 'r') as zip_ref:\n",
    "    zip_ref.extractall(extract_to)\n"
   ]
  },
  {
   "cell_type": "code",
   "execution_count": 16,
   "metadata": {},
   "outputs": [
    {
     "data": {
      "text/plain": [
       "[PhysicalDevice(name='/physical_device:GPU:0', device_type='GPU')]"
      ]
     },
     "execution_count": 16,
     "metadata": {},
     "output_type": "execute_result"
    }
   ],
   "source": [
    "import tensorflow as tf\n",
    "\n",
    "# List physical devices (GPUs)\n",
    "tf.config.list_physical_devices('GPU')\n",
    "\n",
    "# Check if GPU is available\n",
    "#tf.test.is_gpu_available()\n"
   ]
  },
  {
   "cell_type": "code",
   "execution_count": 13,
   "metadata": {},
   "outputs": [
    {
     "ename": "ModuleNotFoundError",
     "evalue": "No module named 'sklearn'",
     "output_type": "error",
     "traceback": [
      "\u001b[1;31m---------------------------------------------------------------------------\u001b[0m",
      "\u001b[1;31mModuleNotFoundError\u001b[0m                       Traceback (most recent call last)",
      "Cell \u001b[1;32mIn[13], line 2\u001b[0m\n\u001b[0;32m      1\u001b[0m \u001b[38;5;28;01mimport\u001b[39;00m \u001b[38;5;21;01mnumpy\u001b[39;00m \u001b[38;5;28;01mas\u001b[39;00m \u001b[38;5;21;01mnp\u001b[39;00m\n\u001b[1;32m----> 2\u001b[0m \u001b[38;5;28;01mimport\u001b[39;00m \u001b[38;5;21;01msklearn\u001b[39;00m\n\u001b[0;32m      3\u001b[0m \u001b[38;5;66;03m#import matplotlib.pyplot as plt\u001b[39;00m\n\u001b[0;32m      4\u001b[0m \u001b[38;5;28;01mfrom\u001b[39;00m \u001b[38;5;21;01msklearn\u001b[39;00m\u001b[38;5;21;01m.\u001b[39;00m\u001b[38;5;21;01mmetrics\u001b[39;00m \u001b[38;5;28;01mimport\u001b[39;00m confusion_matrix\n",
      "\u001b[1;31mModuleNotFoundError\u001b[0m: No module named 'sklearn'"
     ]
    }
   ],
   "source": [
    "import numpy as np\n",
    "import sklearn\n",
    "#import matplotlib.pyplot as plt\n",
    "from sklearn.metrics import confusion_matrix\n",
    "from tensorflow.keras.preprocessing.image import ImageDataGenerator\n",
    "from tensorflow.keras.models import Sequential\n",
    "from tensorflow.keras.layers import Conv2D, MaxPooling2D, Flatten, Dense"
   ]
  },
  {
   "cell_type": "code",
   "execution_count": 12,
   "metadata": {},
   "outputs": [
    {
     "name": "stdout",
     "output_type": "stream",
     "text": [
      "Found 2148 images belonging to 2 classes.\n"
     ]
    }
   ],
   "source": [
    "from tensorflow.keras.preprocessing.image import ImageDataGenerator\n",
    "\n",
    "# Load and preprocess the dataset\n",
    "train_datagen = ImageDataGenerator(rescale=1./255)\n",
    "\n",
    "train_generator = train_datagen.flow_from_directory(\n",
    "    'Pistachio_Image_Dataset',\n",
    "    target_size=(224, 224),\n",
    "    batch_size=32,\n",
    "    class_mode='categorical',\n",
    "    classes=['Kirmizi_Pistachio', 'Siirt_Pistachio'])  "
   ]
  },
  {
   "cell_type": "code",
   "execution_count": 17,
   "metadata": {},
   "outputs": [
    {
     "ename": "ResourceExhaustedError",
     "evalue": "{{function_node __wrapped__StatelessRandomUniformV2_device_/job:localhost/replica:0/task:0/device:GPU:0}} OOM when allocating tensor with shape[25088,4096] and type float on /job:localhost/replica:0/task:0/device:GPU:0 by allocator GPU_0_bfc [Op:StatelessRandomUniformV2]",
     "output_type": "error",
     "traceback": [
      "\u001b[1;31m---------------------------------------------------------------------------\u001b[0m",
      "\u001b[1;31mResourceExhaustedError\u001b[0m                    Traceback (most recent call last)",
      "Cell \u001b[1;32mIn[17], line 2\u001b[0m\n\u001b[0;32m      1\u001b[0m \u001b[38;5;66;03m# Load pre-trained VGG16\u001b[39;00m\n\u001b[1;32m----> 2\u001b[0m vgg16_model \u001b[38;5;241m=\u001b[39m \u001b[43mtf\u001b[49m\u001b[38;5;241;43m.\u001b[39;49m\u001b[43mkeras\u001b[49m\u001b[38;5;241;43m.\u001b[39;49m\u001b[43mapplications\u001b[49m\u001b[38;5;241;43m.\u001b[39;49m\u001b[43mVGG16\u001b[49m\u001b[43m(\u001b[49m\u001b[43mweights\u001b[49m\u001b[38;5;241;43m=\u001b[39;49m\u001b[38;5;124;43m'\u001b[39;49m\u001b[38;5;124;43mimagenet\u001b[39;49m\u001b[38;5;124;43m'\u001b[39;49m\u001b[43m,\u001b[49m\u001b[43m \u001b[49m\u001b[43minclude_top\u001b[49m\u001b[38;5;241;43m=\u001b[39;49m\u001b[38;5;28;43;01mTrue\u001b[39;49;00m\u001b[43m)\u001b[49m\n",
      "File \u001b[1;32mc:\\Users\\rasua\\anaconda3\\envs\\py310\\lib\\site-packages\\keras\\applications\\vgg16.py:210\u001b[0m, in \u001b[0;36mVGG16\u001b[1;34m(include_top, weights, input_tensor, input_shape, pooling, classes, classifier_activation)\u001b[0m\n\u001b[0;32m    207\u001b[0m \u001b[38;5;28;01mif\u001b[39;00m include_top:\n\u001b[0;32m    208\u001b[0m     \u001b[38;5;66;03m# Classification block\u001b[39;00m\n\u001b[0;32m    209\u001b[0m     x \u001b[38;5;241m=\u001b[39m layers\u001b[38;5;241m.\u001b[39mFlatten(name\u001b[38;5;241m=\u001b[39m\u001b[38;5;124m\"\u001b[39m\u001b[38;5;124mflatten\u001b[39m\u001b[38;5;124m\"\u001b[39m)(x)\n\u001b[1;32m--> 210\u001b[0m     x \u001b[38;5;241m=\u001b[39m \u001b[43mlayers\u001b[49m\u001b[38;5;241;43m.\u001b[39;49m\u001b[43mDense\u001b[49m\u001b[43m(\u001b[49m\u001b[38;5;241;43m4096\u001b[39;49m\u001b[43m,\u001b[49m\u001b[43m \u001b[49m\u001b[43mactivation\u001b[49m\u001b[38;5;241;43m=\u001b[39;49m\u001b[38;5;124;43m\"\u001b[39;49m\u001b[38;5;124;43mrelu\u001b[39;49m\u001b[38;5;124;43m\"\u001b[39;49m\u001b[43m,\u001b[49m\u001b[43m \u001b[49m\u001b[43mname\u001b[49m\u001b[38;5;241;43m=\u001b[39;49m\u001b[38;5;124;43m\"\u001b[39;49m\u001b[38;5;124;43mfc1\u001b[39;49m\u001b[38;5;124;43m\"\u001b[39;49m\u001b[43m)\u001b[49m\u001b[43m(\u001b[49m\u001b[43mx\u001b[49m\u001b[43m)\u001b[49m\n\u001b[0;32m    211\u001b[0m     x \u001b[38;5;241m=\u001b[39m layers\u001b[38;5;241m.\u001b[39mDense(\u001b[38;5;241m4096\u001b[39m, activation\u001b[38;5;241m=\u001b[39m\u001b[38;5;124m\"\u001b[39m\u001b[38;5;124mrelu\u001b[39m\u001b[38;5;124m\"\u001b[39m, name\u001b[38;5;241m=\u001b[39m\u001b[38;5;124m\"\u001b[39m\u001b[38;5;124mfc2\u001b[39m\u001b[38;5;124m\"\u001b[39m)(x)\n\u001b[0;32m    213\u001b[0m     imagenet_utils\u001b[38;5;241m.\u001b[39mvalidate_activation(classifier_activation, weights)\n",
      "File \u001b[1;32mc:\\Users\\rasua\\anaconda3\\envs\\py310\\lib\\site-packages\\keras\\utils\\traceback_utils.py:70\u001b[0m, in \u001b[0;36mfilter_traceback.<locals>.error_handler\u001b[1;34m(*args, **kwargs)\u001b[0m\n\u001b[0;32m     67\u001b[0m     filtered_tb \u001b[38;5;241m=\u001b[39m _process_traceback_frames(e\u001b[38;5;241m.\u001b[39m__traceback__)\n\u001b[0;32m     68\u001b[0m     \u001b[38;5;66;03m# To get the full stack trace, call:\u001b[39;00m\n\u001b[0;32m     69\u001b[0m     \u001b[38;5;66;03m# `tf.debugging.disable_traceback_filtering()`\u001b[39;00m\n\u001b[1;32m---> 70\u001b[0m     \u001b[38;5;28;01mraise\u001b[39;00m e\u001b[38;5;241m.\u001b[39mwith_traceback(filtered_tb) \u001b[38;5;28;01mfrom\u001b[39;00m \u001b[38;5;28;01mNone\u001b[39;00m\n\u001b[0;32m     71\u001b[0m \u001b[38;5;28;01mfinally\u001b[39;00m:\n\u001b[0;32m     72\u001b[0m     \u001b[38;5;28;01mdel\u001b[39;00m filtered_tb\n",
      "File \u001b[1;32mc:\\Users\\rasua\\anaconda3\\envs\\py310\\lib\\site-packages\\keras\\backend.py:2100\u001b[0m, in \u001b[0;36mRandomGenerator.random_uniform\u001b[1;34m(self, shape, minval, maxval, dtype, nonce)\u001b[0m\n\u001b[0;32m   2098\u001b[0m     \u001b[38;5;28;01mif\u001b[39;00m nonce:\n\u001b[0;32m   2099\u001b[0m         seed \u001b[38;5;241m=\u001b[39m tf\u001b[38;5;241m.\u001b[39mrandom\u001b[38;5;241m.\u001b[39mexperimental\u001b[38;5;241m.\u001b[39mstateless_fold_in(seed, nonce)\n\u001b[1;32m-> 2100\u001b[0m     \u001b[38;5;28;01mreturn\u001b[39;00m \u001b[43mtf\u001b[49m\u001b[38;5;241;43m.\u001b[39;49m\u001b[43mrandom\u001b[49m\u001b[38;5;241;43m.\u001b[39;49m\u001b[43mstateless_uniform\u001b[49m\u001b[43m(\u001b[49m\n\u001b[0;32m   2101\u001b[0m \u001b[43m        \u001b[49m\u001b[43mshape\u001b[49m\u001b[38;5;241;43m=\u001b[39;49m\u001b[43mshape\u001b[49m\u001b[43m,\u001b[49m\n\u001b[0;32m   2102\u001b[0m \u001b[43m        \u001b[49m\u001b[43mminval\u001b[49m\u001b[38;5;241;43m=\u001b[39;49m\u001b[43mminval\u001b[49m\u001b[43m,\u001b[49m\n\u001b[0;32m   2103\u001b[0m \u001b[43m        \u001b[49m\u001b[43mmaxval\u001b[49m\u001b[38;5;241;43m=\u001b[39;49m\u001b[43mmaxval\u001b[49m\u001b[43m,\u001b[49m\n\u001b[0;32m   2104\u001b[0m \u001b[43m        \u001b[49m\u001b[43mdtype\u001b[49m\u001b[38;5;241;43m=\u001b[39;49m\u001b[43mdtype\u001b[49m\u001b[43m,\u001b[49m\n\u001b[0;32m   2105\u001b[0m \u001b[43m        \u001b[49m\u001b[43mseed\u001b[49m\u001b[38;5;241;43m=\u001b[39;49m\u001b[43mseed\u001b[49m\u001b[43m,\u001b[49m\n\u001b[0;32m   2106\u001b[0m \u001b[43m    \u001b[49m\u001b[43m)\u001b[49m\n\u001b[0;32m   2107\u001b[0m \u001b[38;5;28;01mreturn\u001b[39;00m tf\u001b[38;5;241m.\u001b[39mrandom\u001b[38;5;241m.\u001b[39muniform(\n\u001b[0;32m   2108\u001b[0m     shape\u001b[38;5;241m=\u001b[39mshape,\n\u001b[0;32m   2109\u001b[0m     minval\u001b[38;5;241m=\u001b[39mminval,\n\u001b[1;32m   (...)\u001b[0m\n\u001b[0;32m   2112\u001b[0m     seed\u001b[38;5;241m=\u001b[39m\u001b[38;5;28mself\u001b[39m\u001b[38;5;241m.\u001b[39mmake_legacy_seed(),\n\u001b[0;32m   2113\u001b[0m )\n",
      "\u001b[1;31mResourceExhaustedError\u001b[0m: {{function_node __wrapped__StatelessRandomUniformV2_device_/job:localhost/replica:0/task:0/device:GPU:0}} OOM when allocating tensor with shape[25088,4096] and type float on /job:localhost/replica:0/task:0/device:GPU:0 by allocator GPU_0_bfc [Op:StatelessRandomUniformV2]"
     ]
    }
   ],
   "source": [
    "# Load pre-trained VGG16\n",
    "vgg16_model = tf.keras.applications.VGG16(weights='imagenet', include_top=True)"
   ]
  },
  {
   "cell_type": "code",
   "execution_count": null,
   "metadata": {},
   "outputs": [],
   "source": [
    "\n",
    "# Load pre-trained VGG19\n",
    "vgg19_model = tf.keras.applications.VGG19(weights='imagenet', include_top=True)"
   ]
  },
  {
   "cell_type": "code",
   "execution_count": 10,
   "metadata": {},
   "outputs": [
    {
     "name": "stdout",
     "output_type": "stream",
     "text": [
      "Epoch 1/10\n",
      "68/68 [==============================] - 167s 2s/step - loss: 0.7170 - accuracy: 0.5000\n",
      "Epoch 2/10\n",
      "68/68 [==============================] - 173s 3s/step - loss: 0.6931 - accuracy: 0.5000\n",
      "Epoch 3/10\n",
      "68/68 [==============================] - 158s 2s/step - loss: 0.6931 - accuracy: 0.5000\n",
      "Epoch 4/10\n",
      "68/68 [==============================] - 178s 3s/step - loss: 0.6931 - accuracy: 0.5000\n",
      "Epoch 5/10\n",
      "68/68 [==============================] - 172s 3s/step - loss: 0.6931 - accuracy: 0.5000\n",
      "Epoch 6/10\n",
      "68/68 [==============================] - 172s 3s/step - loss: 0.6931 - accuracy: 0.5000\n",
      "Epoch 7/10\n",
      "68/68 [==============================] - 192s 3s/step - loss: 0.6931 - accuracy: 0.5000\n",
      "Epoch 8/10\n",
      "68/68 [==============================] - 162s 2s/step - loss: 0.6931 - accuracy: 0.5000\n",
      "Epoch 9/10\n",
      "68/68 [==============================] - 134s 2s/step - loss: 0.6931 - accuracy: 0.5000\n",
      "Epoch 10/10\n",
      "68/68 [==============================] - 126s 2s/step - loss: 0.6931 - accuracy: 0.5000\n",
      "68/68 [==============================] - 31s 444ms/step - loss: 0.6931 - accuracy: 0.5000\n",
      "AlexNet Accuracy: 0.5\n",
      "68/68 [==============================] - 32s 465ms/step\n"
     ]
    }
   ],
   "source": [
    "# Define AlexNet using Conv2D layers\n",
    "def alexnet():\n",
    "    model = Sequential([\n",
    "        Conv2D(96, kernel_size=(11,11), strides=(4,4), activation='relu', input_shape=(224, 224, 3)),\n",
    "        MaxPooling2D(pool_size=(3,3), strides=(2,2)),\n",
    "        Conv2D(256, kernel_size=(5,5), activation='relu', padding='same'),\n",
    "        MaxPooling2D(pool_size=(3,3), strides=(2,2)),\n",
    "        Conv2D(384, kernel_size=(3,3), activation='relu', padding='same'),\n",
    "        Conv2D(384, kernel_size=(3,3), activation='relu', padding='same'),\n",
    "        Conv2D(256, kernel_size=(3,3), activation='relu', padding='same'),\n",
    "        MaxPooling2D(pool_size=(3,3), strides=(2,2)),\n",
    "        Flatten(),\n",
    "        Dense(4096, activation='relu'),\n",
    "        Dense(4096, activation='relu'),\n",
    "        Dense(1, activation='sigmoid')  # binary classification\n",
    "    ])\n",
    "    return model\n",
    "\n",
    "alexnet_model = alexnet()\n",
    "alexnet_model.compile(optimizer='adam', loss='binary_crossentropy', metrics=['accuracy'])\n",
    "alexnet_history = alexnet_model.fit(train_generator, epochs=10)\n",
    "alexnet_loss, alexnet_accuracy = alexnet_model.evaluate(train_generator)\n",
    "print(\"AlexNet Accuracy:\", alexnet_accuracy)\n",
    "alexnet_predictions = (alexnet_model.predict(train_generator) > 0.5).astype(\"int32\")"
   ]
  },
  {
   "cell_type": "code",
   "execution_count": 12,
   "metadata": {},
   "outputs": [
    {
     "name": "stdout",
     "output_type": "stream",
     "text": [
      "Epoch 1/5\n",
      "68/68 [==============================] - 1765s 26s/step - loss: 0.6931 - accuracy: 0.5000\n",
      "Epoch 2/5\n",
      "68/68 [==============================] - 1634s 24s/step - loss: 0.6931 - accuracy: 0.5000\n",
      "Epoch 3/5\n",
      "68/68 [==============================] - 1660s 24s/step - loss: 0.6931 - accuracy: 0.5000\n",
      "Epoch 4/5\n",
      "68/68 [==============================] - 1696s 25s/step - loss: 0.6931 - accuracy: 0.5000\n",
      "Epoch 5/5\n",
      "68/68 [==============================] - 1657s 24s/step - loss: 0.6931 - accuracy: 0.5000\n",
      "68/68 [==============================] - 483s 7s/step - loss: 0.6931 - accuracy: 0.5000\n",
      "68/68 [==============================] - 480s 7s/step\n",
      "VGG16 Accuracy: 0.5\n"
     ]
    }
   ],
   "source": [
    "# Define VGG16 using Conv2D layers\n",
    "def vgg16():\n",
    "    model = Sequential([\n",
    "        Conv2D(64, kernel_size=(3, 3), padding='same', activation='relu', input_shape=(224, 224, 3)),\n",
    "        Conv2D(64, kernel_size=(3, 3), padding='same', activation='relu'),\n",
    "        MaxPooling2D(pool_size=(2, 2), strides=(2, 2)),\n",
    "        Conv2D(128, kernel_size=(3, 3), padding='same', activation='relu'),\n",
    "        Conv2D(128, kernel_size=(3, 3), padding='same', activation='relu'),\n",
    "        MaxPooling2D(pool_size=(2, 2), strides=(2, 2)),\n",
    "        Conv2D(256, kernel_size=(3, 3), padding='same', activation='relu'),\n",
    "        Conv2D(256, kernel_size=(3, 3), padding='same', activation='relu'),\n",
    "        Conv2D(256, kernel_size=(3, 3), padding='same', activation='relu'),\n",
    "        MaxPooling2D(pool_size=(2, 2), strides=(2, 2)),\n",
    "        Conv2D(512, kernel_size=(3, 3), padding='same', activation='relu'),\n",
    "        Conv2D(512, kernel_size=(3, 3), padding='same', activation='relu'),\n",
    "        Conv2D(512, kernel_size=(3, 3), padding='same', activation='relu'),\n",
    "        MaxPooling2D(pool_size=(2, 2), strides=(2, 2)),\n",
    "        Conv2D(512, kernel_size=(3, 3), padding='same', activation='relu'),\n",
    "        Conv2D(512, kernel_size=(3, 3), padding='same', activation='relu'),\n",
    "        Conv2D(512, kernel_size=(3, 3), padding='same', activation='relu'),\n",
    "        MaxPooling2D(pool_size=(2, 2), strides=(2, 2)),\n",
    "        Flatten(),\n",
    "        Dense(4096, activation='relu'),\n",
    "        Dense(4096, activation='relu'),\n",
    "        Dense(1, activation='sigmoid')  # binary classification\n",
    "    ])\n",
    "    return model\n",
    "\n",
    "vgg16_model = vgg16()\n",
    "vgg16_model.compile(optimizer='adam', loss='binary_crossentropy', metrics=['accuracy'])\n",
    "vgg16_history = vgg16_model.fit(train_generator, epochs=5)\n",
    "vgg16_loss, vgg16_accuracy = vgg16_model.evaluate(train_generator)\n",
    "vgg16_predictions = (vgg16_model.predict(train_generator) > 0.5).astype(\"int32\")\n",
    "print(\"VGG16 Accuracy:\", vgg16_accuracy)\n"
   ]
  },
  {
   "cell_type": "code",
   "execution_count": null,
   "metadata": {},
   "outputs": [],
   "source": [
    "# Define VGG19 using Conv2D layers\n",
    "def vgg19():\n",
    "    model = Sequential([\n",
    "        Conv2D(64, kernel_size=(3, 3), padding='same', activation='relu', input_shape=(224, 224, 3)),\n",
    "        Conv2D(64, kernel_size=(3, 3), padding='same', activation='relu'),\n",
    "        MaxPooling2D(pool_size=(2, 2), strides=(2, 2)),\n",
    "        Conv2D(128, kernel_size=(3, 3), padding='same', activation='relu'),\n",
    "        Conv2D(128, kernel_size=(3, 3), padding='same', activation='relu'),\n",
    "        MaxPooling2D(pool_size=(2, 2), strides=(2, 2)),\n",
    "        Conv2D(256, kernel_size=(3, 3), padding='same', activation='relu'),\n",
    "        Conv2D(256, kernel_size=(3, 3), padding='same', activation='relu'),\n",
    "        Conv2D(256, kernel_size=(3, 3), padding='same', activation='relu'),\n",
    "        Conv2D(256, kernel_size=(3, 3), padding='same', activation='relu'),\n",
    "        MaxPooling2D(pool_size=(2, 2), strides=(2, 2)),\n",
    "        Conv2D(512, kernel_size=(3, 3), padding='same', activation='relu'),\n",
    "        Conv2D(512, kernel_size=(3, 3), padding='same', activation='relu'),\n",
    "        Conv2D(512, kernel_size=(3, 3), padding='same', activation='relu'),\n",
    "        Conv2D(512, kernel_size=(3, 3), padding='same', activation='relu'),\n",
    "        MaxPooling2D(pool_size=(2, 2), strides=(2, 2)),\n",
    "        Conv2D(512, kernel_size=(3, 3), padding='same', activation='relu'),\n",
    "        Conv2D(512, kernel_size=(3, 3), padding='same', activation='relu'),\n",
    "        Conv2D(512, kernel_size=(3, 3), padding='same', activation='relu'),\n",
    "        Conv2D(512, kernel_size=(3, 3), padding='same', activation='relu'),\n",
    "        MaxPooling2D(pool_size=(2, 2), strides=(2, 2)),\n",
    "        Flatten(),\n",
    "        Dense(4096, activation='relu'),\n",
    "        Dense(4096, activation='relu'),\n",
    "        Dense(1, activation='sigmoid') # binary classification\n",
    "    ])\n",
    "    return model\n",
    "\n",
    "vgg19_model = vgg19()\n",
    "vgg19_model.compile(optimizer='adam', loss='binary_crossentropy', metrics=['accuracy'])\n",
    "vgg19_history = vgg19_model.fit(train_generator, epochs=5)\n",
    "vgg19_loss, vgg19_accuracy = vgg19_model.evaluate(train_generator)\n",
    "print(\"VGG19 Accuracy:\", vgg19_accuracy)\n",
    "vgg19_predictions = (vgg19_model.predict(train_generator) > 0.5).astype(\"int32\")"
   ]
  },
  {
   "cell_type": "code",
   "execution_count": null,
   "metadata": {},
   "outputs": [],
   "source": [
    "true_classes = train_generator.classes\n",
    "\n",
    "def plot_confusion_matrix(y_true, y_pred, title):\n",
    "cm = confusion_matrix(y_true, y_pred)\n",
    "plt.imshow(cm, interpolation='nearest', cmap=plt.cm.Blues)\n",
    "plt.title(title)\n",
    "plt.colorbar()\n",
    "plt.xlabel('Predicted label')\n",
    "plt.ylabel('True label')\n",
    "plt.show()\n",
    "\n",
    "plot_confusion_matrix(true_classes, alexnet_predictions, title='AlexNet Confusion Matrix')\n",
    "plot_confusion_matrix(true_classes, vgg16_predictions, title='VGG16 Confusion Matrix')\n",
    "plot_confusion_matrix(true_classes, vgg19_predictions, title='VGG19 Confusion Matrix')\n"
   ]
  }
 ],
 "metadata": {
  "kernelspec": {
   "display_name": "Python 3",
   "language": "python",
   "name": "python3"
  },
  "language_info": {
   "codemirror_mode": {
    "name": "ipython",
    "version": 3
   },
   "file_extension": ".py",
   "mimetype": "text/x-python",
   "name": "python",
   "nbconvert_exporter": "python",
   "pygments_lexer": "ipython3",
   "version": "3.10.13"
  }
 },
 "nbformat": 4,
 "nbformat_minor": 2
}
