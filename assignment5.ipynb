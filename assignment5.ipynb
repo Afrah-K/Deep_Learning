{
 "cells": [
  {
   "cell_type": "code",
   "execution_count": null,
   "metadata": {},
   "outputs": [],
   "source": [
    "image_path = \"../input/new-plant-diseases-dataset/New Plant Diseases Dataset(Augmented)/train\"\n",
    "class_names = os.listdir(image_path)\n",
    "print(class_names)"
   ]
  }
 ],
 "metadata": {
  "language_info": {
   "name": "python"
  }
 },
 "nbformat": 4,
 "nbformat_minor": 2
}
